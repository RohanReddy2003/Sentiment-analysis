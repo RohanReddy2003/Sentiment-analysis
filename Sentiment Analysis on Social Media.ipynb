{
 "cells": [
  {
   "cell_type": "markdown",
   "id": "3fa50c4d",
   "metadata": {},
   "source": [
    "# Sentiment Analysis Tool on Social Media"
   ]
  },
  {
   "cell_type": "markdown",
   "id": "e16b1fb8",
   "metadata": {},
   "source": [
    "# Dataset - 1 (1,62,980 columns)\n",
    "## Social Media Data (twitter, fb, reddit, etc.)"
   ]
  },
  {
   "cell_type": "code",
   "execution_count": 4,
   "id": "e55f50bc",
   "metadata": {},
   "outputs": [
    {
     "data": {
      "text/html": [
       "<div>\n",
       "<style scoped>\n",
       "    .dataframe tbody tr th:only-of-type {\n",
       "        vertical-align: middle;\n",
       "    }\n",
       "\n",
       "    .dataframe tbody tr th {\n",
       "        vertical-align: top;\n",
       "    }\n",
       "\n",
       "    .dataframe thead th {\n",
       "        text-align: right;\n",
       "    }\n",
       "</style>\n",
       "<table border=\"1\" class=\"dataframe\">\n",
       "  <thead>\n",
       "    <tr style=\"text-align: right;\">\n",
       "      <th></th>\n",
       "      <th>text</th>\n",
       "      <th>sentiment</th>\n",
       "    </tr>\n",
       "  </thead>\n",
       "  <tbody>\n",
       "    <tr>\n",
       "      <th>0</th>\n",
       "      <td>when modi promised “minimum government maximum...</td>\n",
       "      <td>Negative</td>\n",
       "    </tr>\n",
       "    <tr>\n",
       "      <th>1</th>\n",
       "      <td>talk all the nonsense and continue all the dra...</td>\n",
       "      <td>Neutral</td>\n",
       "    </tr>\n",
       "    <tr>\n",
       "      <th>2</th>\n",
       "      <td>what did just say vote for modi  welcome bjp t...</td>\n",
       "      <td>Positive</td>\n",
       "    </tr>\n",
       "    <tr>\n",
       "      <th>3</th>\n",
       "      <td>asking his supporters prefix chowkidar their n...</td>\n",
       "      <td>Positive</td>\n",
       "    </tr>\n",
       "    <tr>\n",
       "      <th>4</th>\n",
       "      <td>answer who among these the most powerful world...</td>\n",
       "      <td>Positive</td>\n",
       "    </tr>\n",
       "  </tbody>\n",
       "</table>\n",
       "</div>"
      ],
      "text/plain": [
       "                                                text sentiment\n",
       "0  when modi promised “minimum government maximum...  Negative\n",
       "1  talk all the nonsense and continue all the dra...   Neutral\n",
       "2  what did just say vote for modi  welcome bjp t...  Positive\n",
       "3  asking his supporters prefix chowkidar their n...  Positive\n",
       "4  answer who among these the most powerful world...  Positive"
      ]
     },
     "execution_count": 4,
     "metadata": {},
     "output_type": "execute_result"
    }
   ],
   "source": [
    "import pandas as pd\n",
    "twitter_df = pd.read_csv(\"social_media_data.csv\")\n",
    "twitter_df.head()"
   ]
  },
  {
   "cell_type": "code",
   "execution_count": 5,
   "id": "da1290f7",
   "metadata": {},
   "outputs": [],
   "source": [
    "mapping = {'Negative': -1, 'Neutral': 0, 'Positive' :1}\n",
    "\n",
    "# Apply the mapping to the column\n",
    "twitter_df['sentiment'] = twitter_df['sentiment'].map(mapping)\n"
   ]
  },
  {
   "cell_type": "code",
   "execution_count": 6,
   "id": "342f781c",
   "metadata": {},
   "outputs": [
    {
     "data": {
      "text/html": [
       "<div>\n",
       "<style scoped>\n",
       "    .dataframe tbody tr th:only-of-type {\n",
       "        vertical-align: middle;\n",
       "    }\n",
       "\n",
       "    .dataframe tbody tr th {\n",
       "        vertical-align: top;\n",
       "    }\n",
       "\n",
       "    .dataframe thead th {\n",
       "        text-align: right;\n",
       "    }\n",
       "</style>\n",
       "<table border=\"1\" class=\"dataframe\">\n",
       "  <thead>\n",
       "    <tr style=\"text-align: right;\">\n",
       "      <th></th>\n",
       "      <th>text</th>\n",
       "      <th>sentiment</th>\n",
       "    </tr>\n",
       "  </thead>\n",
       "  <tbody>\n",
       "    <tr>\n",
       "      <th>0</th>\n",
       "      <td>when modi promised “minimum government maximum...</td>\n",
       "      <td>-1.0</td>\n",
       "    </tr>\n",
       "    <tr>\n",
       "      <th>1</th>\n",
       "      <td>talk all the nonsense and continue all the dra...</td>\n",
       "      <td>0.0</td>\n",
       "    </tr>\n",
       "    <tr>\n",
       "      <th>2</th>\n",
       "      <td>what did just say vote for modi  welcome bjp t...</td>\n",
       "      <td>1.0</td>\n",
       "    </tr>\n",
       "    <tr>\n",
       "      <th>3</th>\n",
       "      <td>asking his supporters prefix chowkidar their n...</td>\n",
       "      <td>1.0</td>\n",
       "    </tr>\n",
       "    <tr>\n",
       "      <th>4</th>\n",
       "      <td>answer who among these the most powerful world...</td>\n",
       "      <td>1.0</td>\n",
       "    </tr>\n",
       "    <tr>\n",
       "      <th>5</th>\n",
       "      <td>kiya tho refresh maarkefir comment karo</td>\n",
       "      <td>0.0</td>\n",
       "    </tr>\n",
       "    <tr>\n",
       "      <th>6</th>\n",
       "      <td>surat women perform yagna seeks divine grace f...</td>\n",
       "      <td>0.0</td>\n",
       "    </tr>\n",
       "    <tr>\n",
       "      <th>7</th>\n",
       "      <td>this comes from cabinet which has scholars lik...</td>\n",
       "      <td>0.0</td>\n",
       "    </tr>\n",
       "    <tr>\n",
       "      <th>8</th>\n",
       "      <td>with upcoming election india saga going import...</td>\n",
       "      <td>1.0</td>\n",
       "    </tr>\n",
       "    <tr>\n",
       "      <th>9</th>\n",
       "      <td>gandhi was gay does modi</td>\n",
       "      <td>1.0</td>\n",
       "    </tr>\n",
       "  </tbody>\n",
       "</table>\n",
       "</div>"
      ],
      "text/plain": [
       "                                                text  sentiment\n",
       "0  when modi promised “minimum government maximum...       -1.0\n",
       "1  talk all the nonsense and continue all the dra...        0.0\n",
       "2  what did just say vote for modi  welcome bjp t...        1.0\n",
       "3  asking his supporters prefix chowkidar their n...        1.0\n",
       "4  answer who among these the most powerful world...        1.0\n",
       "5           kiya tho refresh maarkefir comment karo         0.0\n",
       "6  surat women perform yagna seeks divine grace f...        0.0\n",
       "7  this comes from cabinet which has scholars lik...        0.0\n",
       "8  with upcoming election india saga going import...        1.0\n",
       "9                         gandhi was gay does modi          1.0"
      ]
     },
     "execution_count": 6,
     "metadata": {},
     "output_type": "execute_result"
    }
   ],
   "source": [
    "twitter_df.head(10)"
   ]
  },
  {
   "cell_type": "code",
   "execution_count": 7,
   "id": "d16db825",
   "metadata": {},
   "outputs": [
    {
     "data": {
      "text/plain": [
       "(162980, 2)"
      ]
     },
     "execution_count": 7,
     "metadata": {},
     "output_type": "execute_result"
    }
   ],
   "source": [
    "twitter_df.shape"
   ]
  },
  {
   "cell_type": "code",
   "execution_count": 8,
   "id": "d9e6babc",
   "metadata": {},
   "outputs": [
    {
     "name": "stdout",
     "output_type": "stream",
     "text": [
      "<class 'pandas.core.frame.DataFrame'>\n",
      "RangeIndex: 162980 entries, 0 to 162979\n",
      "Data columns (total 2 columns):\n",
      " #   Column     Non-Null Count   Dtype  \n",
      "---  ------     --------------   -----  \n",
      " 0   text       162976 non-null  object \n",
      " 1   sentiment  162973 non-null  float64\n",
      "dtypes: float64(1), object(1)\n",
      "memory usage: 2.5+ MB\n"
     ]
    }
   ],
   "source": [
    "twitter_df.info()"
   ]
  },
  {
   "cell_type": "markdown",
   "id": "1c15d265",
   "metadata": {},
   "source": [
    "# Dataset - 2 (2,291 columns)\n",
    "## Dataset containing recent news blogs (FX Street news channel)"
   ]
  },
  {
   "cell_type": "code",
   "execution_count": 9,
   "id": "4d14ed7b",
   "metadata": {},
   "outputs": [
    {
     "data": {
      "text/html": [
       "<div>\n",
       "<style scoped>\n",
       "    .dataframe tbody tr th:only-of-type {\n",
       "        vertical-align: middle;\n",
       "    }\n",
       "\n",
       "    .dataframe tbody tr th {\n",
       "        vertical-align: top;\n",
       "    }\n",
       "\n",
       "    .dataframe thead th {\n",
       "        text-align: right;\n",
       "    }\n",
       "</style>\n",
       "<table border=\"1\" class=\"dataframe\">\n",
       "  <thead>\n",
       "    <tr style=\"text-align: right;\">\n",
       "      <th></th>\n",
       "      <th>published_at</th>\n",
       "      <th>ticker</th>\n",
       "      <th>true_sentiment</th>\n",
       "      <th>title</th>\n",
       "      <th>author</th>\n",
       "      <th>url</th>\n",
       "      <th>source</th>\n",
       "      <th>text</th>\n",
       "      <th>finbert_sentiment</th>\n",
       "      <th>finbert_sent_score</th>\n",
       "    </tr>\n",
       "  </thead>\n",
       "  <tbody>\n",
       "    <tr>\n",
       "      <th>0</th>\n",
       "      <td>2023-01-12 07:47:00</td>\n",
       "      <td>EURCHF</td>\n",
       "      <td>Positive</td>\n",
       "      <td>Euro to benefit from the ECBs pronounced hawki...</td>\n",
       "      <td>FXStreet Insights Team</td>\n",
       "      <td>https://www.fxstreet.com/news/euro-to-benefit-...</td>\n",
       "      <td>FX Street</td>\n",
       "      <td>The Euro was able to appreciate particularly s...</td>\n",
       "      <td>Positive</td>\n",
       "      <td>0.85</td>\n",
       "    </tr>\n",
       "    <tr>\n",
       "      <th>1</th>\n",
       "      <td>2023-01-12 10:34:00</td>\n",
       "      <td>EURCHF</td>\n",
       "      <td>Positive</td>\n",
       "      <td>EURCHF Trend higher may remain in place – ING</td>\n",
       "      <td>FXStreet Insights Team</td>\n",
       "      <td>https://www.fxstreet.com/news/eur-chf-trend-hi...</td>\n",
       "      <td>FX Street</td>\n",
       "      <td>EUR/CHF yesterday broke above 1.00. Economists...</td>\n",
       "      <td>Positive</td>\n",
       "      <td>0.51</td>\n",
       "    </tr>\n",
       "    <tr>\n",
       "      <th>2</th>\n",
       "      <td>2023-01-12 11:40:00</td>\n",
       "      <td>EURCHF</td>\n",
       "      <td>Neutral</td>\n",
       "      <td>Does a jump in EURCHF point to a break above 1...</td>\n",
       "      <td>FXStreet Insights Team</td>\n",
       "      <td>https://www.fxstreet.com/news/does-a-jump-in-e...</td>\n",
       "      <td>FX Street</td>\n",
       "      <td>EUR/CHF vaults parity for the first time since...</td>\n",
       "      <td>Neutral</td>\n",
       "      <td>0.37</td>\n",
       "    </tr>\n",
       "    <tr>\n",
       "      <th>3</th>\n",
       "      <td>2023-01-12 15:32:00</td>\n",
       "      <td>EURCHF</td>\n",
       "      <td>Positive</td>\n",
       "      <td>EURCHF could extend its advance back to levels...</td>\n",
       "      <td>FXStreet Insights Team</td>\n",
       "      <td>https://www.fxstreet.com/news/eur-chf-could-ex...</td>\n",
       "      <td>FX Street</td>\n",
       "      <td>EUR/CHF climbs back above parity. Economists a...</td>\n",
       "      <td>Positive</td>\n",
       "      <td>0.64</td>\n",
       "    </tr>\n",
       "    <tr>\n",
       "      <th>4</th>\n",
       "      <td>2023-01-13 11:37:00</td>\n",
       "      <td>EURCHF</td>\n",
       "      <td>Positive</td>\n",
       "      <td>EURCHF to head higher towards 10130 and projec...</td>\n",
       "      <td>FXStreet Insights Team</td>\n",
       "      <td>https://www.fxstreet.com/news/eur-chf-to-head-...</td>\n",
       "      <td>FX Street</td>\n",
       "      <td>EUR/CHF has broken out above the sideways rang...</td>\n",
       "      <td>Positive</td>\n",
       "      <td>0.83</td>\n",
       "    </tr>\n",
       "  </tbody>\n",
       "</table>\n",
       "</div>"
      ],
      "text/plain": [
       "          published_at  ticker true_sentiment  \\\n",
       "0  2023-01-12 07:47:00  EURCHF       Positive   \n",
       "1  2023-01-12 10:34:00  EURCHF       Positive   \n",
       "2  2023-01-12 11:40:00  EURCHF        Neutral   \n",
       "3  2023-01-12 15:32:00  EURCHF       Positive   \n",
       "4  2023-01-13 11:37:00  EURCHF       Positive   \n",
       "\n",
       "                                               title                  author  \\\n",
       "0  Euro to benefit from the ECBs pronounced hawki...  FXStreet Insights Team   \n",
       "1      EURCHF Trend higher may remain in place – ING  FXStreet Insights Team   \n",
       "2  Does a jump in EURCHF point to a break above 1...  FXStreet Insights Team   \n",
       "3  EURCHF could extend its advance back to levels...  FXStreet Insights Team   \n",
       "4  EURCHF to head higher towards 10130 and projec...  FXStreet Insights Team   \n",
       "\n",
       "                                                 url     source  \\\n",
       "0  https://www.fxstreet.com/news/euro-to-benefit-...  FX Street   \n",
       "1  https://www.fxstreet.com/news/eur-chf-trend-hi...  FX Street   \n",
       "2  https://www.fxstreet.com/news/does-a-jump-in-e...  FX Street   \n",
       "3  https://www.fxstreet.com/news/eur-chf-could-ex...  FX Street   \n",
       "4  https://www.fxstreet.com/news/eur-chf-to-head-...  FX Street   \n",
       "\n",
       "                                                text finbert_sentiment  \\\n",
       "0  The Euro was able to appreciate particularly s...          Positive   \n",
       "1  EUR/CHF yesterday broke above 1.00. Economists...          Positive   \n",
       "2  EUR/CHF vaults parity for the first time since...           Neutral   \n",
       "3  EUR/CHF climbs back above parity. Economists a...          Positive   \n",
       "4  EUR/CHF has broken out above the sideways rang...          Positive   \n",
       "\n",
       "   finbert_sent_score  \n",
       "0                0.85  \n",
       "1                0.51  \n",
       "2                0.37  \n",
       "3                0.64  \n",
       "4                0.83  "
      ]
     },
     "execution_count": 9,
     "metadata": {},
     "output_type": "execute_result"
    }
   ],
   "source": [
    "news_df = pd.read_csv(\"sentiment_annotated_with_texts.csv\")\n",
    "news_df.head()"
   ]
  },
  {
   "cell_type": "code",
   "execution_count": 10,
   "id": "24dd4b7c",
   "metadata": {},
   "outputs": [
    {
     "data": {
      "text/html": [
       "<div>\n",
       "<style scoped>\n",
       "    .dataframe tbody tr th:only-of-type {\n",
       "        vertical-align: middle;\n",
       "    }\n",
       "\n",
       "    .dataframe tbody tr th {\n",
       "        vertical-align: top;\n",
       "    }\n",
       "\n",
       "    .dataframe thead th {\n",
       "        text-align: right;\n",
       "    }\n",
       "</style>\n",
       "<table border=\"1\" class=\"dataframe\">\n",
       "  <thead>\n",
       "    <tr style=\"text-align: right;\">\n",
       "      <th></th>\n",
       "      <th>text</th>\n",
       "      <th>true_sentiment</th>\n",
       "    </tr>\n",
       "  </thead>\n",
       "  <tbody>\n",
       "    <tr>\n",
       "      <th>0</th>\n",
       "      <td>The Euro was able to appreciate particularly s...</td>\n",
       "      <td>Positive</td>\n",
       "    </tr>\n",
       "    <tr>\n",
       "      <th>1</th>\n",
       "      <td>EUR/CHF yesterday broke above 1.00. Economists...</td>\n",
       "      <td>Positive</td>\n",
       "    </tr>\n",
       "    <tr>\n",
       "      <th>2</th>\n",
       "      <td>EUR/CHF vaults parity for the first time since...</td>\n",
       "      <td>Neutral</td>\n",
       "    </tr>\n",
       "    <tr>\n",
       "      <th>3</th>\n",
       "      <td>EUR/CHF climbs back above parity. Economists a...</td>\n",
       "      <td>Positive</td>\n",
       "    </tr>\n",
       "    <tr>\n",
       "      <th>4</th>\n",
       "      <td>EUR/CHF has broken out above the sideways rang...</td>\n",
       "      <td>Positive</td>\n",
       "    </tr>\n",
       "    <tr>\n",
       "      <th>...</th>\n",
       "      <td>...</td>\n",
       "      <td>...</td>\n",
       "    </tr>\n",
       "    <tr>\n",
       "      <th>2286</th>\n",
       "      <td>The GBP/USD pair enters a bullish consolidatio...</td>\n",
       "      <td>Positive</td>\n",
       "    </tr>\n",
       "    <tr>\n",
       "      <th>2287</th>\n",
       "      <td>EUR/CHF has turned back lower over the past co...</td>\n",
       "      <td>Negative</td>\n",
       "    </tr>\n",
       "    <tr>\n",
       "      <th>2288</th>\n",
       "      <td>The European Central Bank (ECB)downshifted to ...</td>\n",
       "      <td>Neutral</td>\n",
       "    </tr>\n",
       "    <tr>\n",
       "      <th>2289</th>\n",
       "      <td>Economists at Credit Suisse discuss GBP outloo...</td>\n",
       "      <td>Positive</td>\n",
       "    </tr>\n",
       "    <tr>\n",
       "      <th>2290</th>\n",
       "      <td>The USD/JPY has broken lower and tumbled to 13...</td>\n",
       "      <td>Negative</td>\n",
       "    </tr>\n",
       "  </tbody>\n",
       "</table>\n",
       "<p>2291 rows × 2 columns</p>\n",
       "</div>"
      ],
      "text/plain": [
       "                                                   text true_sentiment\n",
       "0     The Euro was able to appreciate particularly s...       Positive\n",
       "1     EUR/CHF yesterday broke above 1.00. Economists...       Positive\n",
       "2     EUR/CHF vaults parity for the first time since...        Neutral\n",
       "3     EUR/CHF climbs back above parity. Economists a...       Positive\n",
       "4     EUR/CHF has broken out above the sideways rang...       Positive\n",
       "...                                                 ...            ...\n",
       "2286  The GBP/USD pair enters a bullish consolidatio...       Positive\n",
       "2287  EUR/CHF has turned back lower over the past co...       Negative\n",
       "2288  The European Central Bank (ECB)downshifted to ...        Neutral\n",
       "2289  Economists at Credit Suisse discuss GBP outloo...       Positive\n",
       "2290  The USD/JPY has broken lower and tumbled to 13...       Negative\n",
       "\n",
       "[2291 rows x 2 columns]"
      ]
     },
     "execution_count": 10,
     "metadata": {},
     "output_type": "execute_result"
    }
   ],
   "source": [
    "news_df = news_df[[\"text\",\"true_sentiment\"]]\n",
    "news_df"
   ]
  },
  {
   "cell_type": "code",
   "execution_count": 11,
   "id": "13fb4d79",
   "metadata": {},
   "outputs": [
    {
     "data": {
      "text/html": [
       "<div>\n",
       "<style scoped>\n",
       "    .dataframe tbody tr th:only-of-type {\n",
       "        vertical-align: middle;\n",
       "    }\n",
       "\n",
       "    .dataframe tbody tr th {\n",
       "        vertical-align: top;\n",
       "    }\n",
       "\n",
       "    .dataframe thead th {\n",
       "        text-align: right;\n",
       "    }\n",
       "</style>\n",
       "<table border=\"1\" class=\"dataframe\">\n",
       "  <thead>\n",
       "    <tr style=\"text-align: right;\">\n",
       "      <th></th>\n",
       "      <th>text</th>\n",
       "      <th>sentiment</th>\n",
       "    </tr>\n",
       "  </thead>\n",
       "  <tbody>\n",
       "    <tr>\n",
       "      <th>0</th>\n",
       "      <td>The Euro was able to appreciate particularly s...</td>\n",
       "      <td>Positive</td>\n",
       "    </tr>\n",
       "    <tr>\n",
       "      <th>1</th>\n",
       "      <td>EUR/CHF yesterday broke above 1.00. Economists...</td>\n",
       "      <td>Positive</td>\n",
       "    </tr>\n",
       "    <tr>\n",
       "      <th>2</th>\n",
       "      <td>EUR/CHF vaults parity for the first time since...</td>\n",
       "      <td>Neutral</td>\n",
       "    </tr>\n",
       "    <tr>\n",
       "      <th>3</th>\n",
       "      <td>EUR/CHF climbs back above parity. Economists a...</td>\n",
       "      <td>Positive</td>\n",
       "    </tr>\n",
       "    <tr>\n",
       "      <th>4</th>\n",
       "      <td>EUR/CHF has broken out above the sideways rang...</td>\n",
       "      <td>Positive</td>\n",
       "    </tr>\n",
       "  </tbody>\n",
       "</table>\n",
       "</div>"
      ],
      "text/plain": [
       "                                                text sentiment\n",
       "0  The Euro was able to appreciate particularly s...  Positive\n",
       "1  EUR/CHF yesterday broke above 1.00. Economists...  Positive\n",
       "2  EUR/CHF vaults parity for the first time since...   Neutral\n",
       "3  EUR/CHF climbs back above parity. Economists a...  Positive\n",
       "4  EUR/CHF has broken out above the sideways rang...  Positive"
      ]
     },
     "execution_count": 11,
     "metadata": {},
     "output_type": "execute_result"
    }
   ],
   "source": [
    "news_df = news_df.rename(columns={'true_sentiment': 'sentiment'})\n",
    "news_df.head()"
   ]
  },
  {
   "cell_type": "code",
   "execution_count": 12,
   "id": "045814ed",
   "metadata": {},
   "outputs": [
    {
     "data": {
      "text/html": [
       "<div>\n",
       "<style scoped>\n",
       "    .dataframe tbody tr th:only-of-type {\n",
       "        vertical-align: middle;\n",
       "    }\n",
       "\n",
       "    .dataframe tbody tr th {\n",
       "        vertical-align: top;\n",
       "    }\n",
       "\n",
       "    .dataframe thead th {\n",
       "        text-align: right;\n",
       "    }\n",
       "</style>\n",
       "<table border=\"1\" class=\"dataframe\">\n",
       "  <thead>\n",
       "    <tr style=\"text-align: right;\">\n",
       "      <th></th>\n",
       "      <th>text</th>\n",
       "      <th>sentiment</th>\n",
       "    </tr>\n",
       "  </thead>\n",
       "  <tbody>\n",
       "    <tr>\n",
       "      <th>0</th>\n",
       "      <td>The Euro was able to appreciate particularly s...</td>\n",
       "      <td>1</td>\n",
       "    </tr>\n",
       "    <tr>\n",
       "      <th>1</th>\n",
       "      <td>EUR/CHF yesterday broke above 1.00. Economists...</td>\n",
       "      <td>1</td>\n",
       "    </tr>\n",
       "    <tr>\n",
       "      <th>2</th>\n",
       "      <td>EUR/CHF vaults parity for the first time since...</td>\n",
       "      <td>0</td>\n",
       "    </tr>\n",
       "    <tr>\n",
       "      <th>3</th>\n",
       "      <td>EUR/CHF climbs back above parity. Economists a...</td>\n",
       "      <td>1</td>\n",
       "    </tr>\n",
       "    <tr>\n",
       "      <th>4</th>\n",
       "      <td>EUR/CHF has broken out above the sideways rang...</td>\n",
       "      <td>1</td>\n",
       "    </tr>\n",
       "  </tbody>\n",
       "</table>\n",
       "</div>"
      ],
      "text/plain": [
       "                                                text  sentiment\n",
       "0  The Euro was able to appreciate particularly s...          1\n",
       "1  EUR/CHF yesterday broke above 1.00. Economists...          1\n",
       "2  EUR/CHF vaults parity for the first time since...          0\n",
       "3  EUR/CHF climbs back above parity. Economists a...          1\n",
       "4  EUR/CHF has broken out above the sideways rang...          1"
      ]
     },
     "execution_count": 12,
     "metadata": {},
     "output_type": "execute_result"
    }
   ],
   "source": [
    "mapping = {'Negative': -1, 'Neutral': 0, 'Positive': 1}\n",
    "\n",
    "# Apply the mapping to the column\n",
    "news_df['sentiment'] = news_df['sentiment'].map(mapping)\n",
    "news_df.head()"
   ]
  },
  {
   "cell_type": "code",
   "execution_count": 13,
   "id": "c7e40688",
   "metadata": {},
   "outputs": [
    {
     "name": "stdout",
     "output_type": "stream",
     "text": [
      "<class 'pandas.core.frame.DataFrame'>\n",
      "RangeIndex: 2291 entries, 0 to 2290\n",
      "Data columns (total 2 columns):\n",
      " #   Column     Non-Null Count  Dtype \n",
      "---  ------     --------------  ----- \n",
      " 0   text       2291 non-null   object\n",
      " 1   sentiment  2291 non-null   int64 \n",
      "dtypes: int64(1), object(1)\n",
      "memory usage: 35.9+ KB\n"
     ]
    }
   ],
   "source": [
    "news_df.info()"
   ]
  },
  {
   "cell_type": "markdown",
   "id": "086437de",
   "metadata": {},
   "source": [
    "# Combined Dataset (1,65,271 columns)"
   ]
  },
  {
   "cell_type": "code",
   "execution_count": 14,
   "id": "48ee9f99",
   "metadata": {},
   "outputs": [
    {
     "data": {
      "text/html": [
       "<div>\n",
       "<style scoped>\n",
       "    .dataframe tbody tr th:only-of-type {\n",
       "        vertical-align: middle;\n",
       "    }\n",
       "\n",
       "    .dataframe tbody tr th {\n",
       "        vertical-align: top;\n",
       "    }\n",
       "\n",
       "    .dataframe thead th {\n",
       "        text-align: right;\n",
       "    }\n",
       "</style>\n",
       "<table border=\"1\" class=\"dataframe\">\n",
       "  <thead>\n",
       "    <tr style=\"text-align: right;\">\n",
       "      <th></th>\n",
       "      <th>text</th>\n",
       "      <th>sentiment</th>\n",
       "    </tr>\n",
       "  </thead>\n",
       "  <tbody>\n",
       "    <tr>\n",
       "      <th>0</th>\n",
       "      <td>when modi promised “minimum government maximum...</td>\n",
       "      <td>-1.0</td>\n",
       "    </tr>\n",
       "    <tr>\n",
       "      <th>1</th>\n",
       "      <td>talk all the nonsense and continue all the dra...</td>\n",
       "      <td>0.0</td>\n",
       "    </tr>\n",
       "    <tr>\n",
       "      <th>2</th>\n",
       "      <td>what did just say vote for modi  welcome bjp t...</td>\n",
       "      <td>1.0</td>\n",
       "    </tr>\n",
       "    <tr>\n",
       "      <th>3</th>\n",
       "      <td>asking his supporters prefix chowkidar their n...</td>\n",
       "      <td>1.0</td>\n",
       "    </tr>\n",
       "    <tr>\n",
       "      <th>4</th>\n",
       "      <td>answer who among these the most powerful world...</td>\n",
       "      <td>1.0</td>\n",
       "    </tr>\n",
       "  </tbody>\n",
       "</table>\n",
       "</div>"
      ],
      "text/plain": [
       "                                                text  sentiment\n",
       "0  when modi promised “minimum government maximum...       -1.0\n",
       "1  talk all the nonsense and continue all the dra...        0.0\n",
       "2  what did just say vote for modi  welcome bjp t...        1.0\n",
       "3  asking his supporters prefix chowkidar their n...        1.0\n",
       "4  answer who among these the most powerful world...        1.0"
      ]
     },
     "execution_count": 14,
     "metadata": {},
     "output_type": "execute_result"
    }
   ],
   "source": [
    "combined_df = pd.concat([twitter_df, news_df])\n",
    "combined_df.head()"
   ]
  },
  {
   "cell_type": "code",
   "execution_count": 15,
   "id": "22edf0a0",
   "metadata": {},
   "outputs": [
    {
     "name": "stdout",
     "output_type": "stream",
     "text": [
      "<class 'pandas.core.frame.DataFrame'>\n",
      "Index: 165271 entries, 0 to 2290\n",
      "Data columns (total 2 columns):\n",
      " #   Column     Non-Null Count   Dtype  \n",
      "---  ------     --------------   -----  \n",
      " 0   text       165267 non-null  object \n",
      " 1   sentiment  165264 non-null  float64\n",
      "dtypes: float64(1), object(1)\n",
      "memory usage: 3.8+ MB\n"
     ]
    }
   ],
   "source": [
    "combined_df.info()"
   ]
  },
  {
   "cell_type": "markdown",
   "id": "91e2ece1",
   "metadata": {},
   "source": [
    "# Removing the missing data"
   ]
  },
  {
   "cell_type": "code",
   "execution_count": 16,
   "id": "80ddd925",
   "metadata": {},
   "outputs": [],
   "source": [
    "# Drop rows with missing values\n",
    "combined_df.dropna(inplace=True)\n",
    "\n",
    "# Remove duplicates\n",
    "combined_df.drop_duplicates(inplace=True)"
   ]
  },
  {
   "cell_type": "code",
   "execution_count": 17,
   "id": "aaa0630f",
   "metadata": {},
   "outputs": [
    {
     "name": "stdout",
     "output_type": "stream",
     "text": [
      "<class 'pandas.core.frame.DataFrame'>\n",
      "Index: 165260 entries, 0 to 2290\n",
      "Data columns (total 2 columns):\n",
      " #   Column     Non-Null Count   Dtype  \n",
      "---  ------     --------------   -----  \n",
      " 0   text       165260 non-null  object \n",
      " 1   sentiment  165260 non-null  float64\n",
      "dtypes: float64(1), object(1)\n",
      "memory usage: 3.8+ MB\n"
     ]
    }
   ],
   "source": [
    "combined_df.info()"
   ]
  },
  {
   "cell_type": "markdown",
   "id": "a51c2a83",
   "metadata": {},
   "source": [
    "# Stop Words Removal"
   ]
  },
  {
   "cell_type": "code",
   "execution_count": null,
   "id": "c5886c1b",
   "metadata": {},
   "outputs": [],
   "source": []
  },
  {
   "cell_type": "code",
   "execution_count": 18,
   "id": "8b0a10e3",
   "metadata": {},
   "outputs": [
    {
     "name": "stderr",
     "output_type": "stream",
     "text": [
      "[nltk_data] Downloading package stopwords to\n",
      "[nltk_data]     C:\\Users\\91949\\AppData\\Roaming\\nltk_data...\n",
      "[nltk_data]   Package stopwords is already up-to-date!\n"
     ]
    }
   ],
   "source": [
    "import re\n",
    "import nltk\n",
    "from nltk.corpus import stopwords\n",
    "\n",
    "# Download stopwords\n",
    "nltk.download('stopwords')\n",
    "stop_words = set(stopwords.words('english'))"
   ]
  },
  {
   "cell_type": "code",
   "execution_count": 19,
   "id": "9fc076b2",
   "metadata": {},
   "outputs": [
    {
     "data": {
      "text/html": [
       "<div>\n",
       "<style scoped>\n",
       "    .dataframe tbody tr th:only-of-type {\n",
       "        vertical-align: middle;\n",
       "    }\n",
       "\n",
       "    .dataframe tbody tr th {\n",
       "        vertical-align: top;\n",
       "    }\n",
       "\n",
       "    .dataframe thead th {\n",
       "        text-align: right;\n",
       "    }\n",
       "</style>\n",
       "<table border=\"1\" class=\"dataframe\">\n",
       "  <thead>\n",
       "    <tr style=\"text-align: right;\">\n",
       "      <th></th>\n",
       "      <th>text</th>\n",
       "      <th>sentiment</th>\n",
       "    </tr>\n",
       "  </thead>\n",
       "  <tbody>\n",
       "    <tr>\n",
       "      <th>0</th>\n",
       "      <td>modi promised minimum government maximum gover...</td>\n",
       "      <td>-1.0</td>\n",
       "    </tr>\n",
       "    <tr>\n",
       "      <th>1</th>\n",
       "      <td>talk nonsense continue drama vote modi</td>\n",
       "      <td>0.0</td>\n",
       "    </tr>\n",
       "    <tr>\n",
       "      <th>2</th>\n",
       "      <td>say vote modi welcome bjp told rahul main camp...</td>\n",
       "      <td>1.0</td>\n",
       "    </tr>\n",
       "    <tr>\n",
       "      <th>3</th>\n",
       "      <td>asking supporters prefix chowkidar names modi ...</td>\n",
       "      <td>1.0</td>\n",
       "    </tr>\n",
       "    <tr>\n",
       "      <th>4</th>\n",
       "      <td>answer among powerful world leader today trump...</td>\n",
       "      <td>1.0</td>\n",
       "    </tr>\n",
       "  </tbody>\n",
       "</table>\n",
       "</div>"
      ],
      "text/plain": [
       "                                                text  sentiment\n",
       "0  modi promised minimum government maximum gover...       -1.0\n",
       "1             talk nonsense continue drama vote modi        0.0\n",
       "2  say vote modi welcome bjp told rahul main camp...        1.0\n",
       "3  asking supporters prefix chowkidar names modi ...        1.0\n",
       "4  answer among powerful world leader today trump...        1.0"
      ]
     },
     "execution_count": 19,
     "metadata": {},
     "output_type": "execute_result"
    }
   ],
   "source": [
    "def clean_text(text):\n",
    "    text = text.lower()  # Convert to lowercase\n",
    "    text = re.sub(r\"http\\S+|www\\S+|https\\S+\", \"\", text, flags=re.MULTILINE)  # Remove URLs\n",
    "    text = re.sub(r\"@\\w+|\\#\", \"\", text)  # Remove mentions and hashtags\n",
    "    text = re.sub(r\"[^\\w\\s]\", \"\", text)  # Remove punctuation\n",
    "    text = \" \".join([word for word in text.split() if word not in stop_words])  # Remove stopwords\n",
    "    return text\n",
    "\n",
    "# Apply cleaning function\n",
    "combined_df[\"text\"] = combined_df[\"text\"].apply(clean_text)\n",
    "\n",
    "# Save the cleaned dataset\n",
    "cleaned_file_path = \"Data_Cleaned.csv\"\n",
    "combined_df.to_csv(cleaned_file_path, index=False)\n",
    "\n",
    "# Display some cleaned text\n",
    "combined_df.head()"
   ]
  },
  {
   "cell_type": "code",
   "execution_count": 20,
   "id": "b1865bcf",
   "metadata": {},
   "outputs": [
    {
     "data": {
      "text/plain": [
       "(165260, 2)"
      ]
     },
     "execution_count": 20,
     "metadata": {},
     "output_type": "execute_result"
    }
   ],
   "source": [
    "combined_df.shape"
   ]
  },
  {
   "cell_type": "code",
   "execution_count": 21,
   "id": "6f17b1d7",
   "metadata": {},
   "outputs": [
    {
     "data": {
      "text/html": [
       "<div>\n",
       "<style scoped>\n",
       "    .dataframe tbody tr th:only-of-type {\n",
       "        vertical-align: middle;\n",
       "    }\n",
       "\n",
       "    .dataframe tbody tr th {\n",
       "        vertical-align: top;\n",
       "    }\n",
       "\n",
       "    .dataframe thead th {\n",
       "        text-align: right;\n",
       "    }\n",
       "</style>\n",
       "<table border=\"1\" class=\"dataframe\">\n",
       "  <thead>\n",
       "    <tr style=\"text-align: right;\">\n",
       "      <th></th>\n",
       "      <th>text</th>\n",
       "      <th>sentiment</th>\n",
       "    </tr>\n",
       "  </thead>\n",
       "  <tbody>\n",
       "    <tr>\n",
       "      <th>0</th>\n",
       "      <td>modi promised minimum government maximum gover...</td>\n",
       "      <td>-1.0</td>\n",
       "    </tr>\n",
       "    <tr>\n",
       "      <th>1</th>\n",
       "      <td>talk nonsense continue drama vote modi</td>\n",
       "      <td>0.0</td>\n",
       "    </tr>\n",
       "    <tr>\n",
       "      <th>2</th>\n",
       "      <td>say vote modi welcome bjp told rahul main camp...</td>\n",
       "      <td>1.0</td>\n",
       "    </tr>\n",
       "    <tr>\n",
       "      <th>3</th>\n",
       "      <td>asking supporters prefix chowkidar names modi ...</td>\n",
       "      <td>1.0</td>\n",
       "    </tr>\n",
       "    <tr>\n",
       "      <th>4</th>\n",
       "      <td>answer among powerful world leader today trump...</td>\n",
       "      <td>1.0</td>\n",
       "    </tr>\n",
       "  </tbody>\n",
       "</table>\n",
       "</div>"
      ],
      "text/plain": [
       "                                                text  sentiment\n",
       "0  modi promised minimum government maximum gover...       -1.0\n",
       "1             talk nonsense continue drama vote modi        0.0\n",
       "2  say vote modi welcome bjp told rahul main camp...        1.0\n",
       "3  asking supporters prefix chowkidar names modi ...        1.0\n",
       "4  answer among powerful world leader today trump...        1.0"
      ]
     },
     "execution_count": 21,
     "metadata": {},
     "output_type": "execute_result"
    }
   ],
   "source": [
    "# Remove NaN values in the clean_text column\n",
    "df_cleaned = combined_df.dropna(subset=[\"text\"])\n",
    "\n",
    "# Ensure text is treated as a string\n",
    "df_cleaned[\"text\"] = df_cleaned[\"text\"].astype(str)\n",
    "\n",
    "df_cleaned.head()"
   ]
  },
  {
   "cell_type": "markdown",
   "id": "c9ddc00b",
   "metadata": {},
   "source": [
    "# TF-IDF vectorization"
   ]
  },
  {
   "cell_type": "code",
   "execution_count": 22,
   "id": "d4f938a0",
   "metadata": {},
   "outputs": [
    {
     "data": {
      "text/plain": [
       "((132208, 102063), (33052, 102063))"
      ]
     },
     "execution_count": 22,
     "metadata": {},
     "output_type": "execute_result"
    }
   ],
   "source": [
    "from sklearn.feature_extraction.text import TfidfVectorizer\n",
    "from sklearn.model_selection import train_test_split\n",
    "\n",
    "# Define the vectorizer\n",
    "tfidf_vectorizer = TfidfVectorizer()\n",
    "\n",
    "# Split data again after fixing NaNs\n",
    "X_train, X_test, y_train, y_test = train_test_split(\n",
    "    df_cleaned[\"text\"], df_cleaned[\"sentiment\"], test_size=0.2, random_state=42, stratify=df_cleaned[\"sentiment\"]\n",
    ")\n",
    "\n",
    "# Convert text into TF-IDF vectors\n",
    "X_train_tfidf = tfidf_vectorizer.fit_transform(X_train)\n",
    "X_test_tfidf = tfidf_vectorizer.transform(X_test)\n",
    "\n",
    "# Display shape of transformed data\n",
    "X_train_tfidf.shape, X_test_tfidf.shape"
   ]
  },
  {
   "cell_type": "code",
   "execution_count": 23,
   "id": "fc1b5d56",
   "metadata": {},
   "outputs": [],
   "source": [
    "sample_index = 0  # Choose a document index\n",
    "\n",
    "# Get the nonzero TF-IDF values for this document\n",
    "nz_indices = X_train_tfidf[sample_index].nonzero()[1]\n",
    "nz_tfidf_values = X_train_tfidf[sample_index, nz_indices].toarray()[0]\n",
    "\n",
    "# Get feature names (words)\n",
    "feature_names = tfidf_vectorizer.get_feature_names_out()\n",
    "\n",
    "# Map words to their TF-IDF scores\n",
    "sample_tfidf = {feature_names[i]: nz_tfidf_values[j] for j, i in enumerate(nz_indices)}\n"
   ]
  },
  {
   "cell_type": "markdown",
   "id": "f1a4195b",
   "metadata": {},
   "source": [
    "# Vectors after TF-IDF"
   ]
  },
  {
   "cell_type": "code",
   "execution_count": 24,
   "id": "95c43aea",
   "metadata": {},
   "outputs": [
    {
     "name": "stdout",
     "output_type": "stream",
     "text": [
      "[('lookafter', 0.461534751251937), ('abhisar', 0.33374748297542306), ('destroying', 0.274699083069892), ('communal', 0.2678153809298574), ('hear', 0.2667605705351923), ('problems', 0.2658468371395823), ('sad', 0.2647346141738465), ('busy', 0.2587604567834275), ('yogi', 0.2501546899761765), ('comments', 0.24926752102828195), ('democracy', 0.22531751455136853), ('hope', 0.21487366810935463), ('rahul', 0.16074385808068561), ('modi', 0.04525001954378917)]\n",
      "lookafter: 0.461535\n",
      "abhisar: 0.333747\n",
      "destroying: 0.274699\n",
      "communal: 0.267815\n",
      "hear: 0.266761\n",
      "problems: 0.265847\n",
      "sad: 0.264735\n",
      "busy: 0.258760\n",
      "yogi: 0.250155\n",
      "comments: 0.249268\n",
      "democracy: 0.225318\n",
      "hope: 0.214874\n",
      "rahul: 0.160744\n",
      "modi: 0.045250\n"
     ]
    }
   ],
   "source": [
    "# Display sorted TF-IDF scores\n",
    "print(sorted(sample_tfidf.items(), key=lambda x: x[1], reverse=True)[:100])  # Show top 100\n",
    "\n",
    "for word, score in sorted(sample_tfidf.items(), key=lambda x: x[1], reverse=True)[:100]:\n",
    "    print(f\"{word}: {score:f}\")"
   ]
  },
  {
   "cell_type": "code",
   "execution_count": 25,
   "id": "d3370e1f",
   "metadata": {},
   "outputs": [
    {
     "data": {
      "text/plain": [
       "<132208x102063 sparse matrix of type '<class 'numpy.float64'>'\n",
       "\twith 1983682 stored elements in Compressed Sparse Row format>"
      ]
     },
     "execution_count": 25,
     "metadata": {},
     "output_type": "execute_result"
    }
   ],
   "source": [
    "# X_train\n",
    "X_train_tfidf"
   ]
  },
  {
   "cell_type": "code",
   "execution_count": 26,
   "id": "d73e7b96",
   "metadata": {},
   "outputs": [
    {
     "data": {
      "text/plain": [
       "<33052x102063 sparse matrix of type '<class 'numpy.float64'>'\n",
       "\twith 486248 stored elements in Compressed Sparse Row format>"
      ]
     },
     "execution_count": 26,
     "metadata": {},
     "output_type": "execute_result"
    }
   ],
   "source": [
    "X_test_tfidf"
   ]
  },
  {
   "cell_type": "code",
   "execution_count": 27,
   "id": "a14d90cd",
   "metadata": {},
   "outputs": [],
   "source": [
    "# Reduce feature size for faster computation\n",
    "from sklearn.feature_selection import SelectKBest, chi2\n",
    "from sklearn.metrics import classification_report\n",
    "\n",
    "k = 8000  # Reduce to top 3,000 features\n",
    "selector = SelectKBest(chi2, k=k)\n",
    "X_train_selected = selector.fit_transform(X_train_tfidf, y_train)\n",
    "X_test_selected = selector.transform(X_test_tfidf)"
   ]
  },
  {
   "cell_type": "markdown",
   "id": "274c5c74",
   "metadata": {},
   "source": [
    "# Multinomial Naive Bayes Classifier"
   ]
  },
  {
   "cell_type": "code",
   "execution_count": 25,
   "id": "c3317920",
   "metadata": {},
   "outputs": [
    {
     "name": "stdout",
     "output_type": "stream",
     "text": [
      "Naive Bayes Classification Report:\n",
      "              precision    recall  f1-score   support\n",
      "\n",
      "        -1.0       0.96      0.04      0.08      7244\n",
      "         0.0       0.80      0.21      0.33     11205\n",
      "         1.0       0.48      0.98      0.65     14603\n",
      "\n",
      "    accuracy                           0.51     33052\n",
      "   macro avg       0.75      0.41      0.35     33052\n",
      "weighted avg       0.69      0.51      0.41     33052\n",
      "\n"
     ]
    }
   ],
   "source": [
    "# Reduce dataset size for faster computation\n",
    "from sklearn.utils import resample\n",
    "from sklearn.naive_bayes import MultinomialNB\n",
    "\n",
    "subset_size = 10000  # Use only 20,000 samples\n",
    "X_train_small, y_train_small = resample(X_train_selected, y_train, n_samples=subset_size, random_state=42)\n",
    "\n",
    "# Train and evaluate Naive Bayes (fastest for text data)\n",
    "nb_model = MultinomialNB()\n",
    "nb_model.fit(X_train_small, y_train_small)\n",
    "y_pred_nb = nb_model.predict(X_test_selected)\n",
    "\n",
    "# Get classification report\n",
    "nb_report = classification_report(y_test, y_pred_nb, output_dict=True)\n",
    "print(\"Naive Bayes Classification Report:\")\n",
    "print(classification_report(y_test, y_pred_nb))\n"
   ]
  },
  {
   "cell_type": "markdown",
   "id": "076ada3c",
   "metadata": {},
   "source": [
    "# Decision Tree Classifier"
   ]
  },
  {
   "cell_type": "code",
   "execution_count": 26,
   "id": "eff33f49",
   "metadata": {},
   "outputs": [
    {
     "name": "stdout",
     "output_type": "stream",
     "text": [
      "\n",
      "Decision Tree Classification Report:\n",
      "              precision    recall  f1-score   support\n",
      "\n",
      "        -1.0       0.58      0.45      0.51      7244\n",
      "         0.0       0.65      0.77      0.71     11205\n",
      "         1.0       0.74      0.71      0.73     14603\n",
      "\n",
      "    accuracy                           0.68     33052\n",
      "   macro avg       0.66      0.65      0.65     33052\n",
      "weighted avg       0.67      0.68      0.67     33052\n",
      "\n"
     ]
    }
   ],
   "source": [
    "from sklearn.tree import DecisionTreeClassifier\n",
    "from sklearn.metrics import classification_report\n",
    "\n",
    "# Train Decision Tree classifier\n",
    "dt_model = DecisionTreeClassifier(random_state=42)\n",
    "dt_model.fit(X_train_small, y_train_small)\n",
    "y_pred_dt = dt_model.predict(X_test_selected)\n",
    "\n",
    "# Get classification reports\n",
    "dt_report = classification_report(y_test, y_pred_dt, output_dict=True)\n",
    "\n",
    "# Display reports\n",
    "print(\"\\nDecision Tree Classification Report:\")\n",
    "print(classification_report(y_test, y_pred_dt))\n"
   ]
  },
  {
   "cell_type": "markdown",
   "id": "c9717ff9",
   "metadata": {},
   "source": [
    "# Random Forest Classifier"
   ]
  },
  {
   "cell_type": "code",
   "execution_count": 27,
   "id": "e301ba4a",
   "metadata": {},
   "outputs": [
    {
     "name": "stdout",
     "output_type": "stream",
     "text": [
      "Random Forest Classification Report:\n",
      "              precision    recall  f1-score   support\n",
      "\n",
      "        -1.0       0.85      0.45      0.59      7244\n",
      "         0.0       0.71      0.90      0.79     11205\n",
      "         1.0       0.79      0.81      0.80     14603\n",
      "\n",
      "    accuracy                           0.76     33052\n",
      "   macro avg       0.78      0.72      0.73     33052\n",
      "weighted avg       0.77      0.76      0.75     33052\n",
      "\n"
     ]
    }
   ],
   "source": [
    "from sklearn.ensemble import RandomForestClassifier\n",
    "\n",
    "# Train Random Forest classifier\n",
    "rf_model = RandomForestClassifier(n_estimators=100, random_state=42)  # Using 100 trees\n",
    "rf_model.fit(X_train_small, y_train_small)\n",
    "y_pred_rf = rf_model.predict(X_test_selected)\n",
    "\n",
    "rf_report = classification_report(y_test, y_pred_rf, output_dict=True)\n",
    "\n",
    "print(\"Random Forest Classification Report:\")\n",
    "print(classification_report(y_test, y_pred_rf))"
   ]
  },
  {
   "cell_type": "code",
   "execution_count": null,
   "id": "1d138cbf",
   "metadata": {},
   "outputs": [],
   "source": []
  },
  {
   "cell_type": "code",
   "execution_count": null,
   "id": "cdb4264d",
   "metadata": {},
   "outputs": [],
   "source": []
  },
  {
   "cell_type": "code",
   "execution_count": null,
   "id": "734e8aaa",
   "metadata": {},
   "outputs": [],
   "source": []
  },
  {
   "cell_type": "code",
   "execution_count": null,
   "id": "c12bb5a4",
   "metadata": {},
   "outputs": [],
   "source": []
  },
  {
   "cell_type": "code",
   "execution_count": null,
   "id": "e037f0fe",
   "metadata": {},
   "outputs": [],
   "source": []
  },
  {
   "cell_type": "code",
   "execution_count": null,
   "id": "5659104d",
   "metadata": {},
   "outputs": [],
   "source": []
  },
  {
   "cell_type": "code",
   "execution_count": null,
   "id": "f8e41953",
   "metadata": {
    "scrolled": true
   },
   "outputs": [],
   "source": []
  },
  {
   "cell_type": "markdown",
   "id": "5e9c62f5",
   "metadata": {},
   "source": [
    "# LSTM Model"
   ]
  },
  {
   "cell_type": "code",
   "execution_count": 28,
   "id": "a1f9734c",
   "metadata": {},
   "outputs": [],
   "source": [
    "import tensorflow as tf\n",
    "from tensorflow.keras.models import Sequential\n",
    "from tensorflow.keras.layers import Embedding, LSTM, Dense, SpatialDropout1D\n",
    "from tensorflow.keras.preprocessing.sequence import pad_sequences\n",
    "from tensorflow.keras.preprocessing.text import Tokenizer\n",
    "from sklearn.preprocessing import LabelEncoder"
   ]
  },
  {
   "cell_type": "code",
   "execution_count": 38,
   "id": "da7d2c0a",
   "metadata": {},
   "outputs": [],
   "source": [
    "# Tokenize and pad sequences\n",
    "max_words = 5000  # Limit vocabulary size\n",
    "max_len = 100  # Maximum sequence length\n",
    "\n",
    "tokenizer = Tokenizer(num_words=max_words, oov_token=\"<OOV>\")\n",
    "tokenizer.fit_on_texts(X_train)  # Fit on training data\n",
    "X_train_seq = tokenizer.texts_to_sequences(X_train)\n",
    "X_test_seq = tokenizer.texts_to_sequences(X_test)"
   ]
  },
  {
   "cell_type": "code",
   "execution_count": 39,
   "id": "c8b97a0f",
   "metadata": {},
   "outputs": [],
   "source": [
    "import numpy as np\n",
    "X_train_pad = pad_sequences(X_train_seq, maxlen=max_len, padding=\"post\", truncating=\"post\")\n",
    "X_test_pad = pad_sequences(X_test_seq, maxlen=max_len, padding=\"post\", truncating=\"post\")\n",
    "X_train_pad = np.array(X_train_pad, dtype=np.int32)\n",
    "X_test_pad = np.array(X_test_pad, dtype=np.int32)"
   ]
  },
  {
   "cell_type": "code",
   "execution_count": 40,
   "id": "c114b4ef",
   "metadata": {},
   "outputs": [],
   "source": [
    "# Encode labels\n",
    "label_encoder = LabelEncoder()\n",
    "y_train_enc = label_encoder.fit_transform(y_train)\n",
    "y_test_enc = label_encoder.transform(y_test)"
   ]
  },
  {
   "cell_type": "code",
   "execution_count": null,
   "id": "3519ab90",
   "metadata": {},
   "outputs": [],
   "source": []
  },
  {
   "cell_type": "code",
   "execution_count": null,
   "id": "7a6ba8eb",
   "metadata": {},
   "outputs": [],
   "source": [
    "# Build LSTM model\n",
    "# lstm_model = Sequential([\n",
    "#     Embedding(input_dim=max_words, output_dim=128, input_length=max_len),\n",
    "#     SpatialDropout1D(0.2),\n",
    "#     LSTM(100, dropout=0.2, recurrent_dropout=0.2),\n",
    "#     Dense(4, activation=\"softmax\")  # 4 sentiment categories\n",
    "# ])"
   ]
  },
  {
   "cell_type": "code",
   "execution_count": null,
   "id": "36e5c13a",
   "metadata": {},
   "outputs": [],
   "source": [
    "# lstm_model.compile(loss=\"sparse_categorical_crossentropy\", optimizer=\"adam\", metrics=[\"accuracy\"])"
   ]
  },
  {
   "cell_type": "code",
   "execution_count": null,
   "id": "bb0942f3",
   "metadata": {},
   "outputs": [],
   "source": [
    "# Train LSTM\n",
    "# lstm_model.fit(X_train_pad, y_train_enc, epochs=5, batch_size=64, validation_data=(X_test_pad, y_test_enc))\n",
    "\n",
    "# lstm_loss, lstm_accuracy = lstm_model.evaluate(X_test_pad, y_test_enc, verbose=1)\n",
    "# lstm_accuracy"
   ]
  },
  {
   "cell_type": "code",
   "execution_count": null,
   "id": "6db30d1a",
   "metadata": {},
   "outputs": [],
   "source": []
  },
  {
   "cell_type": "code",
   "execution_count": null,
   "id": "d21dce9c",
   "metadata": {},
   "outputs": [],
   "source": []
  },
  {
   "cell_type": "code",
   "execution_count": null,
   "id": "27e734e0",
   "metadata": {},
   "outputs": [],
   "source": []
  },
  {
   "cell_type": "markdown",
   "id": "75f182bb",
   "metadata": {},
   "source": [
    "# Bidirectional LSTM model"
   ]
  },
  {
   "cell_type": "code",
   "execution_count": 32,
   "id": "f4018dc6",
   "metadata": {},
   "outputs": [
    {
     "name": "stderr",
     "output_type": "stream",
     "text": [
      "C:\\Python312\\Lib\\site-packages\\keras\\src\\layers\\core\\embedding.py:97: UserWarning: Argument `input_length` is deprecated. Just remove it.\n",
      "  warnings.warn(\n"
     ]
    }
   ],
   "source": [
    "from tensorflow.keras.layers import Bidirectional\n",
    "\n",
    "# Rebuild LSTM model with improvements\n",
    "lstm_model = Sequential([\n",
    "    Embedding(input_dim=5000, output_dim=200, input_length=max_len),  # Increased embedding size\n",
    "    SpatialDropout1D(0.3),  # Increased dropout to prevent overfitting\n",
    "    Bidirectional(LSTM(128, dropout=0.3, recurrent_dropout=0.3, return_sequences=True)),  # First BiLSTM layer\n",
    "    Bidirectional(LSTM(64, dropout=0.3, recurrent_dropout=0.3)),  # Second BiLSTM layer\n",
    "    Dense(64, activation=\"relu\"),  # Fully connected layer for learning complex features\n",
    "    Dense(4, activation=\"softmax\")  # Output layer with 4 sentiment categories\n",
    "])\n",
    "\n",
    "lstm_model.compile(loss=\"sparse_categorical_crossentropy\", optimizer=\"adam\", metrics=[\"accuracy\"])"
   ]
  },
  {
   "cell_type": "code",
   "execution_count": 33,
   "id": "1c5aa327",
   "metadata": {},
   "outputs": [
    {
     "name": "stdout",
     "output_type": "stream",
     "text": [
      "Epoch 1/8\n",
      "\u001b[1m4132/4132\u001b[0m \u001b[32m━━━━━━━━━━━━━━━━━━━━\u001b[0m\u001b[37m\u001b[0m \u001b[1m6493s\u001b[0m 2s/step - accuracy: 0.7697 - loss: 0.5727 - val_accuracy: 0.8945 - val_loss: 0.3378\n",
      "Epoch 2/8\n",
      "\u001b[1m4132/4132\u001b[0m \u001b[32m━━━━━━━━━━━━━━━━━━━━\u001b[0m\u001b[37m\u001b[0m \u001b[1m8818s\u001b[0m 2s/step - accuracy: 0.8961 - loss: 0.3302 - val_accuracy: 0.8972 - val_loss: 0.3285\n",
      "Epoch 3/8\n",
      "\u001b[1m4132/4132\u001b[0m \u001b[32m━━━━━━━━━━━━━━━━━━━━\u001b[0m\u001b[37m\u001b[0m \u001b[1m2827s\u001b[0m 684ms/step - accuracy: 0.9015 - loss: 0.3080 - val_accuracy: 0.8983 - val_loss: 0.3231\n",
      "Epoch 4/8\n",
      "\u001b[1m4132/4132\u001b[0m \u001b[32m━━━━━━━━━━━━━━━━━━━━\u001b[0m\u001b[37m\u001b[0m \u001b[1m2880s\u001b[0m 697ms/step - accuracy: 0.9059 - loss: 0.2886 - val_accuracy: 0.8985 - val_loss: 0.3237\n",
      "Epoch 5/8\n",
      "\u001b[1m4132/4132\u001b[0m \u001b[32m━━━━━━━━━━━━━━━━━━━━\u001b[0m\u001b[37m\u001b[0m \u001b[1m2969s\u001b[0m 718ms/step - accuracy: 0.9094 - loss: 0.2707 - val_accuracy: 0.8975 - val_loss: 0.3303\n",
      "Epoch 6/8\n",
      "\u001b[1m4132/4132\u001b[0m \u001b[32m━━━━━━━━━━━━━━━━━━━━\u001b[0m\u001b[37m\u001b[0m \u001b[1m3067s\u001b[0m 729ms/step - accuracy: 0.9156 - loss: 0.2518 - val_accuracy: 0.8955 - val_loss: 0.3348\n",
      "Epoch 7/8\n",
      "\u001b[1m4132/4132\u001b[0m \u001b[32m━━━━━━━━━━━━━━━━━━━━\u001b[0m\u001b[37m\u001b[0m \u001b[1m3045s\u001b[0m 737ms/step - accuracy: 0.9170 - loss: 0.2425 - val_accuracy: 0.8956 - val_loss: 0.3420\n",
      "Epoch 8/8\n",
      "\u001b[1m4132/4132\u001b[0m \u001b[32m━━━━━━━━━━━━━━━━━━━━\u001b[0m\u001b[37m\u001b[0m \u001b[1m3770s\u001b[0m 912ms/step - accuracy: 0.9226 - loss: 0.2308 - val_accuracy: 0.8901 - val_loss: 0.3624\n"
     ]
    }
   ],
   "source": [
    "# Train the improved LSTM model\n",
    "history = lstm_model.fit(\n",
    "    X_train_pad, y_train_enc, \n",
    "    epochs=8, batch_size=32,  # Increased epochs and reduced batch size for better learning\n",
    "    validation_data=(X_test_pad, y_test_enc),\n",
    "    verbose=1\n",
    ")"
   ]
  },
  {
   "cell_type": "code",
   "execution_count": 34,
   "id": "87023f9b-7026-4e9b-8b34-43bc437cc141",
   "metadata": {},
   "outputs": [
    {
     "data": {
      "image/png": "[encoded data removed]",
      "text/plain": [
       "<Figure size 1500x500 with 2 Axes>"
      ]
     },
     "metadata": {},
     "output_type": "display_data"
    }
   ],
   "source": [
    "import matplotlib.pyplot as plt\n",
    "import seaborn as sns\n",
    "sns.set(style='whitegrid')\n",
    "\n",
    "def plot_training_history(history):\n",
    "    fig, (ax1, ax2) = plt.subplots(1, 2, figsize=(15, 5))\n",
    "    \n",
    "    # Plot training & validation accuracy\n",
    "    ax1.plot(history.history['accuracy'], label='Train Accuracy', color='#1f77b4', linewidth=2)\n",
    "    ax1.plot(history.history['val_accuracy'], label='Validation Accuracy', color='#ff7f0e', linestyle='--', linewidth=2)\n",
    "    ax1.set_title('Model Accuracy', fontsize=14, pad=10)\n",
    "    ax1.set_ylabel('Accuracy', fontsize=12)\n",
    "    ax1.set_xlabel('Epoch', fontsize=12)\n",
    "    ax1.legend(loc='lower right', fontsize=10)\n",
    "    ax1.set_ylim([0, 1])  # Set y-axis limits for accuracy\n",
    "    \n",
    "    # Plot training & validation loss\n",
    "    ax2.plot(history.history['loss'], label='Train Loss', color='#1f77b4', linewidth=2)\n",
    "    ax2.plot(history.history['val_loss'], label='Validation Loss', color='#ff7f0e', linestyle='--', linewidth=2)\n",
    "    ax2.set_title('Model Loss', fontsize=14, pad=10)\n",
    "    ax2.set_ylabel('Loss', fontsize=12)\n",
    "    ax2.set_xlabel('Epoch', fontsize=12)\n",
    "    ax2.legend(loc='upper right', fontsize=10)\n",
    "    \n",
    "    plt.tight_layout()\n",
    "    plt.savefig('training_metrics.png', dpi=300, bbox_inches='tight')\n",
    "    plt.show()\n",
    "\n",
    "# Call the function after training\n",
    "plot_training_history(history)"
   ]
  },
  {
   "cell_type": "markdown",
   "id": "2ae58092-68c3-4acc-bd36-a69e3ee61693",
   "metadata": {},
   "source": [
    "## LSTM Accuracy"
   ]
  },
  {
   "cell_type": "code",
   "execution_count": 41,
   "id": "37f3b48d",
   "metadata": {},
   "outputs": [
    {
     "name": "stdout",
     "output_type": "stream",
     "text": [
      "\u001b[1m1033/1033\u001b[0m \u001b[32m━━━━━━━━━━━━━━━━━━━━\u001b[0m\u001b[37m\u001b[0m \u001b[1m299s\u001b[0m 290ms/step - accuracy: 0.8908 - loss: 0.3567\n"
     ]
    },
    {
     "data": {
      "text/plain": [
       "0.8900822997093201"
      ]
     },
     "execution_count": 41,
     "metadata": {},
     "output_type": "execute_result"
    }
   ],
   "source": [
    "# Evaluate the improved LSTM model\n",
    "lstm_loss, lstm_accuracy = lstm_model.evaluate(X_test_pad, y_test_enc, verbose=1)\n",
    "lstm_accuracy"
   ]
  },
  {
   "cell_type": "code",
   "execution_count": 46,
   "id": "5cb88ca4-1ca3-4ece-96c9-a26710b9f72c",
   "metadata": {},
   "outputs": [
    {
     "name": "stderr",
     "output_type": "stream",
     "text": [
      "WARNING:absl:You are saving your model as an HDF5 file via `model.save()` or `keras.saving.save_model(model)`. This file format is considered legacy. We recommend using instead the native Keras format, e.g. `model.save('my_model.keras')` or `keras.saving.save_model(model, 'my_model.keras')`. \n"
     ]
    }
   ],
   "source": [
    "lstm_model.save('lstm_model.h5')"
   ]
  },
  {
   "cell_type": "markdown",
   "id": "c4506f86-946c-40c8-ac7d-ede4a594e5a8",
   "metadata": {},
   "source": [
    "# Extracting Facial sentiment using MobileNet model"
   ]
  },
  {
   "cell_type": "code",
   "execution_count": 42,
   "id": "63ff7adb-1b54-4f2f-878c-0cdaab72a450",
   "metadata": {},
   "outputs": [],
   "source": [
    "# 📦 Imports\n",
    "import easyocr\n",
    "from PIL import Image\n",
    "import torch\n",
    "import torch.nn as nn\n",
    "import torch.nn.functional as F\n",
    "import torchvision.transforms as transforms\n",
    "import torchvision.models as models\n",
    "import numpy as np\n",
    "import cv2\n",
    "from keras.preprocessing.sequence import pad_sequences"
   ]
  },
  {
   "cell_type": "code",
   "execution_count": 43,
   "id": "1b26c74d-7c4f-4e39-a2e3-750584c6df3b",
   "metadata": {},
   "outputs": [
    {
     "name": "stderr",
     "output_type": "stream",
     "text": [
      "Neither CUDA nor MPS are available - defaulting to CPU. Note: This module is much faster with a GPU.\n"
     ]
    }
   ],
   "source": [
    "# 🔤 Load OCR\n",
    "ocr_reader = easyocr.Reader(['en'])\n"
   ]
  },
  {
   "cell_type": "code",
   "execution_count": 44,
   "id": "8d8224b0-35d8-47fc-aa9d-043a6389b4fb",
   "metadata": {},
   "outputs": [],
   "source": [
    "# 📷 Image Preprocessing (for OCR)\n",
    "def extract_text_from_image(image_path):\n",
    "    results = ocr_reader.readtext(image_path)\n",
    "    extracted_text = \" \".join([res[1] for res in results])\n",
    "    return extracted_text\n"
   ]
  },
  {
   "cell_type": "code",
   "execution_count": 45,
   "id": "1fec69dd-63e9-4892-802d-3383256ae62b",
   "metadata": {},
   "outputs": [],
   "source": [
    "# 📊 Text Sentiment using LSTM\n",
    "def predict_text_sentiment(text, tokenizer, lstm_model, max_len=100):\n",
    "    seq = tokenizer.texts_to_sequences([text])\n",
    "    padded = pad_sequences(seq, maxlen=max_len, padding='post')\n",
    "    preds = lstm_model.predict(padded, verbose=0)\n",
    "    label = np.argmax(preds[0])\n",
    "    conf = preds[0][label]\n",
    "    label_map = {0: \"Negative\", 1: \"Happy\", 2: \"Neutral\", 3: \"Sad\"}\n",
    "    return label_map[label], conf\n"
   ]
  },
  {
   "cell_type": "code",
   "execution_count": 46,
   "id": "89aa0e15-1e64-454b-9a56-0c5f4f4ba500",
   "metadata": {},
   "outputs": [],
   "source": [
    "# 🧠 MobileNetV2 Model for Facial Expression Recognition\n",
    "class MobileNetEmotion(nn.Module):\n",
    "    def __init__(self, num_classes=7):\n",
    "        super(MobileNetEmotion, self).__init__()\n",
    "        self.base_model = models.mobilenet_v2(weights=None)  # No pretrained weights for emotions\n",
    "        self.base_model.classifier[1] = nn.Linear(self.base_model.last_channel, num_classes)\n",
    "        \n",
    "    def forward(self, x):\n",
    "        return self.base_model(x)\n"
   ]
  },
  {
   "cell_type": "code",
   "execution_count": 47,
   "id": "31bb90a3-b1c3-431a-82e6-4d4e63424a7d",
   "metadata": {
    "scrolled": true
   },
   "outputs": [
    {
     "data": {
      "text/plain": [
       "MobileNetEmotion(\n",
       "  (base_model): MobileNetV2(\n",
       "    (features): Sequential(\n",
       "      (0): Conv2dNormActivation(\n",
       "        (0): Conv2d(3, 32, kernel_size=(3, 3), stride=(2, 2), padding=(1, 1), bias=False)\n",
       "        (1): BatchNorm2d(32, eps=1e-05, momentum=0.1, affine=True, track_running_stats=True)\n",
       "        (2): ReLU6(inplace=True)\n",
       "      )\n",
       "      (1): InvertedResidual(\n",
       "        (conv): Sequential(\n",
       "          (0): Conv2dNormActivation(\n",
       "            (0): Conv2d(32, 32, kernel_size=(3, 3), stride=(1, 1), padding=(1, 1), groups=32, bias=False)\n",
       "            (1): BatchNorm2d(32, eps=1e-05, momentum=0.1, affine=True, track_running_stats=True)\n",
       "            (2): ReLU6(inplace=True)\n",
       "          )\n",
       "          (1): Conv2d(32, 16, kernel_size=(1, 1), stride=(1, 1), bias=False)\n",
       "          (2): BatchNorm2d(16, eps=1e-05, momentum=0.1, affine=True, track_running_stats=True)\n",
       "        )\n",
       "      )\n",
       "      (2): InvertedResidual(\n",
       "        (conv): Sequential(\n",
       "          (0): Conv2dNormActivation(\n",
       "            (0): Conv2d(16, 96, kernel_size=(1, 1), stride=(1, 1), bias=False)\n",
       "            (1): BatchNorm2d(96, eps=1e-05, momentum=0.1, affine=True, track_running_stats=True)\n",
       "            (2): ReLU6(inplace=True)\n",
       "          )\n",
       "          (1): Conv2dNormActivation(\n",
       "            (0): Conv2d(96, 96, kernel_size=(3, 3), stride=(2, 2), padding=(1, 1), groups=96, bias=False)\n",
       "            (1): BatchNorm2d(96, eps=1e-05, momentum=0.1, affine=True, track_running_stats=True)\n",
       "            (2): ReLU6(inplace=True)\n",
       "          )\n",
       "          (2): Conv2d(96, 24, kernel_size=(1, 1), stride=(1, 1), bias=False)\n",
       "          (3): BatchNorm2d(24, eps=1e-05, momentum=0.1, affine=True, track_running_stats=True)\n",
       "        )\n",
       "      )\n",
       "      (3): InvertedResidual(\n",
       "        (conv): Sequential(\n",
       "          (0): Conv2dNormActivation(\n",
       "            (0): Conv2d(24, 144, kernel_size=(1, 1), stride=(1, 1), bias=False)\n",
       "            (1): BatchNorm2d(144, eps=1e-05, momentum=0.1, affine=True, track_running_stats=True)\n",
       "            (2): ReLU6(inplace=True)\n",
       "          )\n",
       "          (1): Conv2dNormActivation(\n",
       "            (0): Conv2d(144, 144, kernel_size=(3, 3), stride=(1, 1), padding=(1, 1), groups=144, bias=False)\n",
       "            (1): BatchNorm2d(144, eps=1e-05, momentum=0.1, affine=True, track_running_stats=True)\n",
       "            (2): ReLU6(inplace=True)\n",
       "          )\n",
       "          (2): Conv2d(144, 24, kernel_size=(1, 1), stride=(1, 1), bias=False)\n",
       "          (3): BatchNorm2d(24, eps=1e-05, momentum=0.1, affine=True, track_running_stats=True)\n",
       "        )\n",
       "      )\n",
       "      (4): InvertedResidual(\n",
       "        (conv): Sequential(\n",
       "          (0): Conv2dNormActivation(\n",
       "            (0): Conv2d(24, 144, kernel_size=(1, 1), stride=(1, 1), bias=False)\n",
       "            (1): BatchNorm2d(144, eps=1e-05, momentum=0.1, affine=True, track_running_stats=True)\n",
       "            (2): ReLU6(inplace=True)\n",
       "          )\n",
       "          (1): Conv2dNormActivation(\n",
       "            (0): Conv2d(144, 144, kernel_size=(3, 3), stride=(2, 2), padding=(1, 1), groups=144, bias=False)\n",
       "            (1): BatchNorm2d(144, eps=1e-05, momentum=0.1, affine=True, track_running_stats=True)\n",
       "            (2): ReLU6(inplace=True)\n",
       "          )\n",
       "          (2): Conv2d(144, 32, kernel_size=(1, 1), stride=(1, 1), bias=False)\n",
       "          (3): BatchNorm2d(32, eps=1e-05, momentum=0.1, affine=True, track_running_stats=True)\n",
       "        )\n",
       "      )\n",
       "      (5): InvertedResidual(\n",
       "        (conv): Sequential(\n",
       "          (0): Conv2dNormActivation(\n",
       "            (0): Conv2d(32, 192, kernel_size=(1, 1), stride=(1, 1), bias=False)\n",
       "            (1): BatchNorm2d(192, eps=1e-05, momentum=0.1, affine=True, track_running_stats=True)\n",
       "            (2): ReLU6(inplace=True)\n",
       "          )\n",
       "          (1): Conv2dNormActivation(\n",
       "            (0): Conv2d(192, 192, kernel_size=(3, 3), stride=(1, 1), padding=(1, 1), groups=192, bias=False)\n",
       "            (1): BatchNorm2d(192, eps=1e-05, momentum=0.1, affine=True, track_running_stats=True)\n",
       "            (2): ReLU6(inplace=True)\n",
       "          )\n",
       "          (2): Conv2d(192, 32, kernel_size=(1, 1), stride=(1, 1), bias=False)\n",
       "          (3): BatchNorm2d(32, eps=1e-05, momentum=0.1, affine=True, track_running_stats=True)\n",
       "        )\n",
       "      )\n",
       "      (6): InvertedResidual(\n",
       "        (conv): Sequential(\n",
       "          (0): Conv2dNormActivation(\n",
       "            (0): Conv2d(32, 192, kernel_size=(1, 1), stride=(1, 1), bias=False)\n",
       "            (1): BatchNorm2d(192, eps=1e-05, momentum=0.1, affine=True, track_running_stats=True)\n",
       "            (2): ReLU6(inplace=True)\n",
       "          )\n",
       "          (1): Conv2dNormActivation(\n",
       "            (0): Conv2d(192, 192, kernel_size=(3, 3), stride=(1, 1), padding=(1, 1), groups=192, bias=False)\n",
       "            (1): BatchNorm2d(192, eps=1e-05, momentum=0.1, affine=True, track_running_stats=True)\n",
       "            (2): ReLU6(inplace=True)\n",
       "          )\n",
       "          (2): Conv2d(192, 32, kernel_size=(1, 1), stride=(1, 1), bias=False)\n",
       "          (3): BatchNorm2d(32, eps=1e-05, momentum=0.1, affine=True, track_running_stats=True)\n",
       "        )\n",
       "      )\n",
       "      (7): InvertedResidual(\n",
       "        (conv): Sequential(\n",
       "          (0): Conv2dNormActivation(\n",
       "            (0): Conv2d(32, 192, kernel_size=(1, 1), stride=(1, 1), bias=False)\n",
       "            (1): BatchNorm2d(192, eps=1e-05, momentum=0.1, affine=True, track_running_stats=True)\n",
       "            (2): ReLU6(inplace=True)\n",
       "          )\n",
       "          (1): Conv2dNormActivation(\n",
       "            (0): Conv2d(192, 192, kernel_size=(3, 3), stride=(2, 2), padding=(1, 1), groups=192, bias=False)\n",
       "            (1): BatchNorm2d(192, eps=1e-05, momentum=0.1, affine=True, track_running_stats=True)\n",
       "            (2): ReLU6(inplace=True)\n",
       "          )\n",
       "          (2): Conv2d(192, 64, kernel_size=(1, 1), stride=(1, 1), bias=False)\n",
       "          (3): BatchNorm2d(64, eps=1e-05, momentum=0.1, affine=True, track_running_stats=True)\n",
       "        )\n",
       "      )\n",
       "      (8): InvertedResidual(\n",
       "        (conv): Sequential(\n",
       "          (0): Conv2dNormActivation(\n",
       "            (0): Conv2d(64, 384, kernel_size=(1, 1), stride=(1, 1), bias=False)\n",
       "            (1): BatchNorm2d(384, eps=1e-05, momentum=0.1, affine=True, track_running_stats=True)\n",
       "            (2): ReLU6(inplace=True)\n",
       "          )\n",
       "          (1): Conv2dNormActivation(\n",
       "            (0): Conv2d(384, 384, kernel_size=(3, 3), stride=(1, 1), padding=(1, 1), groups=384, bias=False)\n",
       "            (1): BatchNorm2d(384, eps=1e-05, momentum=0.1, affine=True, track_running_stats=True)\n",
       "            (2): ReLU6(inplace=True)\n",
       "          )\n",
       "          (2): Conv2d(384, 64, kernel_size=(1, 1), stride=(1, 1), bias=False)\n",
       "          (3): BatchNorm2d(64, eps=1e-05, momentum=0.1, affine=True, track_running_stats=True)\n",
       "        )\n",
       "      )\n",
       "      (9): InvertedResidual(\n",
       "        (conv): Sequential(\n",
       "          (0): Conv2dNormActivation(\n",
       "            (0): Conv2d(64, 384, kernel_size=(1, 1), stride=(1, 1), bias=False)\n",
       "            (1): BatchNorm2d(384, eps=1e-05, momentum=0.1, affine=True, track_running_stats=True)\n",
       "            (2): ReLU6(inplace=True)\n",
       "          )\n",
       "          (1): Conv2dNormActivation(\n",
       "            (0): Conv2d(384, 384, kernel_size=(3, 3), stride=(1, 1), padding=(1, 1), groups=384, bias=False)\n",
       "            (1): BatchNorm2d(384, eps=1e-05, momentum=0.1, affine=True, track_running_stats=True)\n",
       "            (2): ReLU6(inplace=True)\n",
       "          )\n",
       "          (2): Conv2d(384, 64, kernel_size=(1, 1), stride=(1, 1), bias=False)\n",
       "          (3): BatchNorm2d(64, eps=1e-05, momentum=0.1, affine=True, track_running_stats=True)\n",
       "        )\n",
       "      )\n",
       "      (10): InvertedResidual(\n",
       "        (conv): Sequential(\n",
       "          (0): Conv2dNormActivation(\n",
       "            (0): Conv2d(64, 384, kernel_size=(1, 1), stride=(1, 1), bias=False)\n",
       "            (1): BatchNorm2d(384, eps=1e-05, momentum=0.1, affine=True, track_running_stats=True)\n",
       "            (2): ReLU6(inplace=True)\n",
       "          )\n",
       "          (1): Conv2dNormActivation(\n",
       "            (0): Conv2d(384, 384, kernel_size=(3, 3), stride=(1, 1), padding=(1, 1), groups=384, bias=False)\n",
       "            (1): BatchNorm2d(384, eps=1e-05, momentum=0.1, affine=True, track_running_stats=True)\n",
       "            (2): ReLU6(inplace=True)\n",
       "          )\n",
       "          (2): Conv2d(384, 64, kernel_size=(1, 1), stride=(1, 1), bias=False)\n",
       "          (3): BatchNorm2d(64, eps=1e-05, momentum=0.1, affine=True, track_running_stats=True)\n",
       "        )\n",
       "      )\n",
       "      (11): InvertedResidual(\n",
       "        (conv): Sequential(\n",
       "          (0): Conv2dNormActivation(\n",
       "            (0): Conv2d(64, 384, kernel_size=(1, 1), stride=(1, 1), bias=False)\n",
       "            (1): BatchNorm2d(384, eps=1e-05, momentum=0.1, affine=True, track_running_stats=True)\n",
       "            (2): ReLU6(inplace=True)\n",
       "          )\n",
       "          (1): Conv2dNormActivation(\n",
       "            (0): Conv2d(384, 384, kernel_size=(3, 3), stride=(1, 1), padding=(1, 1), groups=384, bias=False)\n",
       "            (1): BatchNorm2d(384, eps=1e-05, momentum=0.1, affine=True, track_running_stats=True)\n",
       "            (2): ReLU6(inplace=True)\n",
       "          )\n",
       "          (2): Conv2d(384, 96, kernel_size=(1, 1), stride=(1, 1), bias=False)\n",
       "          (3): BatchNorm2d(96, eps=1e-05, momentum=0.1, affine=True, track_running_stats=True)\n",
       "        )\n",
       "      )\n",
       "      (12): InvertedResidual(\n",
       "        (conv): Sequential(\n",
       "          (0): Conv2dNormActivation(\n",
       "            (0): Conv2d(96, 576, kernel_size=(1, 1), stride=(1, 1), bias=False)\n",
       "            (1): BatchNorm2d(576, eps=1e-05, momentum=0.1, affine=True, track_running_stats=True)\n",
       "            (2): ReLU6(inplace=True)\n",
       "          )\n",
       "          (1): Conv2dNormActivation(\n",
       "            (0): Conv2d(576, 576, kernel_size=(3, 3), stride=(1, 1), padding=(1, 1), groups=576, bias=False)\n",
       "            (1): BatchNorm2d(576, eps=1e-05, momentum=0.1, affine=True, track_running_stats=True)\n",
       "            (2): ReLU6(inplace=True)\n",
       "          )\n",
       "          (2): Conv2d(576, 96, kernel_size=(1, 1), stride=(1, 1), bias=False)\n",
       "          (3): BatchNorm2d(96, eps=1e-05, momentum=0.1, affine=True, track_running_stats=True)\n",
       "        )\n",
       "      )\n",
       "      (13): InvertedResidual(\n",
       "        (conv): Sequential(\n",
       "          (0): Conv2dNormActivation(\n",
       "            (0): Conv2d(96, 576, kernel_size=(1, 1), stride=(1, 1), bias=False)\n",
       "            (1): BatchNorm2d(576, eps=1e-05, momentum=0.1, affine=True, track_running_stats=True)\n",
       "            (2): ReLU6(inplace=True)\n",
       "          )\n",
       "          (1): Conv2dNormActivation(\n",
       "            (0): Conv2d(576, 576, kernel_size=(3, 3), stride=(1, 1), padding=(1, 1), groups=576, bias=False)\n",
       "            (1): BatchNorm2d(576, eps=1e-05, momentum=0.1, affine=True, track_running_stats=True)\n",
       "            (2): ReLU6(inplace=True)\n",
       "          )\n",
       "          (2): Conv2d(576, 96, kernel_size=(1, 1), stride=(1, 1), bias=False)\n",
       "          (3): BatchNorm2d(96, eps=1e-05, momentum=0.1, affine=True, track_running_stats=True)\n",
       "        )\n",
       "      )\n",
       "      (14): InvertedResidual(\n",
       "        (conv): Sequential(\n",
       "          (0): Conv2dNormActivation(\n",
       "            (0): Conv2d(96, 576, kernel_size=(1, 1), stride=(1, 1), bias=False)\n",
       "            (1): BatchNorm2d(576, eps=1e-05, momentum=0.1, affine=True, track_running_stats=True)\n",
       "            (2): ReLU6(inplace=True)\n",
       "          )\n",
       "          (1): Conv2dNormActivation(\n",
       "            (0): Conv2d(576, 576, kernel_size=(3, 3), stride=(2, 2), padding=(1, 1), groups=576, bias=False)\n",
       "            (1): BatchNorm2d(576, eps=1e-05, momentum=0.1, affine=True, track_running_stats=True)\n",
       "            (2): ReLU6(inplace=True)\n",
       "          )\n",
       "          (2): Conv2d(576, 160, kernel_size=(1, 1), stride=(1, 1), bias=False)\n",
       "          (3): BatchNorm2d(160, eps=1e-05, momentum=0.1, affine=True, track_running_stats=True)\n",
       "        )\n",
       "      )\n",
       "      (15): InvertedResidual(\n",
       "        (conv): Sequential(\n",
       "          (0): Conv2dNormActivation(\n",
       "            (0): Conv2d(160, 960, kernel_size=(1, 1), stride=(1, 1), bias=False)\n",
       "            (1): BatchNorm2d(960, eps=1e-05, momentum=0.1, affine=True, track_running_stats=True)\n",
       "            (2): ReLU6(inplace=True)\n",
       "          )\n",
       "          (1): Conv2dNormActivation(\n",
       "            (0): Conv2d(960, 960, kernel_size=(3, 3), stride=(1, 1), padding=(1, 1), groups=960, bias=False)\n",
       "            (1): BatchNorm2d(960, eps=1e-05, momentum=0.1, affine=True, track_running_stats=True)\n",
       "            (2): ReLU6(inplace=True)\n",
       "          )\n",
       "          (2): Conv2d(960, 160, kernel_size=(1, 1), stride=(1, 1), bias=False)\n",
       "          (3): BatchNorm2d(160, eps=1e-05, momentum=0.1, affine=True, track_running_stats=True)\n",
       "        )\n",
       "      )\n",
       "      (16): InvertedResidual(\n",
       "        (conv): Sequential(\n",
       "          (0): Conv2dNormActivation(\n",
       "            (0): Conv2d(160, 960, kernel_size=(1, 1), stride=(1, 1), bias=False)\n",
       "            (1): BatchNorm2d(960, eps=1e-05, momentum=0.1, affine=True, track_running_stats=True)\n",
       "            (2): ReLU6(inplace=True)\n",
       "          )\n",
       "          (1): Conv2dNormActivation(\n",
       "            (0): Conv2d(960, 960, kernel_size=(3, 3), stride=(1, 1), padding=(1, 1), groups=960, bias=False)\n",
       "            (1): BatchNorm2d(960, eps=1e-05, momentum=0.1, affine=True, track_running_stats=True)\n",
       "            (2): ReLU6(inplace=True)\n",
       "          )\n",
       "          (2): Conv2d(960, 160, kernel_size=(1, 1), stride=(1, 1), bias=False)\n",
       "          (3): BatchNorm2d(160, eps=1e-05, momentum=0.1, affine=True, track_running_stats=True)\n",
       "        )\n",
       "      )\n",
       "      (17): InvertedResidual(\n",
       "        (conv): Sequential(\n",
       "          (0): Conv2dNormActivation(\n",
       "            (0): Conv2d(160, 960, kernel_size=(1, 1), stride=(1, 1), bias=False)\n",
       "            (1): BatchNorm2d(960, eps=1e-05, momentum=0.1, affine=True, track_running_stats=True)\n",
       "            (2): ReLU6(inplace=True)\n",
       "          )\n",
       "          (1): Conv2dNormActivation(\n",
       "            (0): Conv2d(960, 960, kernel_size=(3, 3), stride=(1, 1), padding=(1, 1), groups=960, bias=False)\n",
       "            (1): BatchNorm2d(960, eps=1e-05, momentum=0.1, affine=True, track_running_stats=True)\n",
       "            (2): ReLU6(inplace=True)\n",
       "          )\n",
       "          (2): Conv2d(960, 320, kernel_size=(1, 1), stride=(1, 1), bias=False)\n",
       "          (3): BatchNorm2d(320, eps=1e-05, momentum=0.1, affine=True, track_running_stats=True)\n",
       "        )\n",
       "      )\n",
       "      (18): Conv2dNormActivation(\n",
       "        (0): Conv2d(320, 1280, kernel_size=(1, 1), stride=(1, 1), bias=False)\n",
       "        (1): BatchNorm2d(1280, eps=1e-05, momentum=0.1, affine=True, track_running_stats=True)\n",
       "        (2): ReLU6(inplace=True)\n",
       "      )\n",
       "    )\n",
       "    (classifier): Sequential(\n",
       "      (0): Dropout(p=0.2, inplace=False)\n",
       "      (1): Linear(in_features=1280, out_features=7, bias=True)\n",
       "    )\n",
       "  )\n",
       ")"
      ]
     },
     "execution_count": 47,
     "metadata": {},
     "output_type": "execute_result"
    }
   ],
   "source": [
    "# ⚙️ Device and Model Setup\n",
    "device = torch.device('cuda' if torch.cuda.is_available() else 'cpu')\n",
    "face_model = MobileNetEmotion(num_classes=7).to(device)\n",
    "\n",
    "# (Optional) Load pretrained emotion weights\n",
    "# face_model.load_state_dict(torch.load('mobilenet_emotion.pth', map_location=device))\n",
    "face_model.eval()\n"
   ]
  },
  {
   "cell_type": "code",
   "execution_count": 48,
   "id": "25bdf38d-8be6-48ac-9d69-fcaa056314e6",
   "metadata": {},
   "outputs": [],
   "source": [
    "# 📈 Transform for face images (Important: MobileNet expects 3-channel input 224x224)\n",
    "transform = transforms.Compose([\n",
    "    transforms.ToPILImage(),\n",
    "    transforms.Resize((224, 224)),\n",
    "    transforms.ToTensor(),\n",
    "    transforms.Normalize(mean=[0.485, 0.456, 0.406], \n",
    "                         std=[0.229, 0.224, 0.225])\n",
    "])\n"
   ]
  },
  {
   "cell_type": "code",
   "execution_count": 49,
   "id": "ace9338b-06df-4925-bf2b-8f93ece16d78",
   "metadata": {},
   "outputs": [
    {
     "name": "stdout",
     "output_type": "stream",
     "text": [
      "WARNING:tensorflow:From C:\\Python312\\Lib\\site-packages\\tf_keras\\src\\losses.py:2976: The name tf.losses.sparse_softmax_cross_entropy is deprecated. Please use tf.compat.v1.losses.sparse_softmax_cross_entropy instead.\n",
      "\n"
     ]
    }
   ],
   "source": [
    "from deepface import DeepFace\n",
    "\n",
    "def predict_facial_sentiment(image_path):\n",
    "    try:\n",
    "        analysis = DeepFace.analyze(img_path=image_path, actions=['emotion'])\n",
    "        emotion = analysis[0]['dominant_emotion']\n",
    "\n",
    "        label_map = {\n",
    "            \"angry\": \"Negative\",\n",
    "            \"disgust\": \"Negative\",\n",
    "            \"fear\": \"Negative\",\n",
    "            \"sad\": \"Negative\",\n",
    "            \"happy\": \"Positive\",\n",
    "            \"surprise\": \"Positive\",\n",
    "            \"neutral\": \"Neutral\"\n",
    "        }\n",
    "        sentiment = label_map.get(emotion.lower(), \"Neutral\")\n",
    "        confidence = analysis[0]['emotion'][emotion]\n",
    "\n",
    "        return sentiment, confidence / 100  # Normalize to [0, 1]\n",
    "    except Exception as e:\n",
    "        print(f\"DeepFace error: {e}\")\n",
    "        return \"Neutral\", 0.5\n"
   ]
  },
  {
   "cell_type": "code",
   "execution_count": 50,
   "id": "52595174-19d1-46e0-a042-b6fb941b417a",
   "metadata": {},
   "outputs": [],
   "source": [
    "# 🔥 Fusion of both sentiments\n",
    "def fuse_sentiments(text_label, text_conf, face_label, face_conf):\n",
    "    sentiment_score = {\"Anger\": -1, \"Sad\": -0.5, \"Neutral\": 0, \"Happy\": 1,\n",
    "                       \"Negative\": -1, \"Positive\": 1}\n",
    "    \n",
    "    text_score = sentiment_score.get(text_label, 0) * text_conf\n",
    "    face_score = sentiment_score.get(face_label, 0) * face_conf\n",
    "    \n",
    "    combined_score = (text_score + face_score) / (text_conf + face_conf)\n",
    "    \n",
    "    if combined_score >= 0.5:\n",
    "        return \"Positive\"\n",
    "    elif combined_score <= -0.5:\n",
    "        return \"Negative\"\n",
    "    else:\n",
    "        return \"Neutral\"\n"
   ]
  },
  {
   "cell_type": "markdown",
   "id": "302339d3-f04a-4c85-ac8d-ca865cdc94f0",
   "metadata": {},
   "source": [
    "# Final Results"
   ]
  },
  {
   "cell_type": "code",
   "execution_count": 52,
   "id": "2bb68d6c",
   "metadata": {},
   "outputs": [
    {
     "name": "stdout",
     "output_type": "stream",
     "text": [
      "Text Sentiment: Neutral (confidence: 1.00)\n",
      "Face Sentiment: Positive (confidence: 1.00)\n",
      "Final Sentiment: Positive\n"
     ]
    }
   ],
   "source": [
    "# Example usage\n",
    "image_path = \"img3.jpg\"\n",
    "text_from_image = extract_text_from_image(image_path)\n",
    "\n",
    "text_label, text_conf = predict_text_sentiment(text_from_image, tokenizer, lstm_model)\n",
    "face_label, face_conf = predict_facial_sentiment(image_path)\n",
    "\n",
    "final_sentiment = fuse_sentiments(text_label, text_conf, face_label, face_conf)\n",
    "print(f\"Text Sentiment: {text_label} (confidence: {text_conf:.2f})\")\n",
    "print(f\"Face Sentiment: {face_label} (confidence: {face_conf:.2f})\")\n",
    "print(f\"Final Sentiment: {final_sentiment}\")\n"
   ]
  },
  {
   "cell_type": "code",
   "execution_count": 49,
   "id": "ec0b800d",
   "metadata": {},
   "outputs": [],
   "source": [
    "# At the end of your notebook\n",
    "import pickle\n",
    "\n",
    "# Create a dictionary with all needed components\n",
    "to_pickle = {\n",
    "    'tokenizer': tokenizer,\n",
    "    'model': lstm_model\n",
    "}\n",
    "\n",
    "with open('sentiment_analyzer.pkl', 'wb') as f:\n",
    "    pickle.dump(to_pickle, f)"
   ]
  },
  {
   "cell_type": "code",
   "execution_count": 45,
   "id": "82dd1a02",
   "metadata": {
    "scrolled": true
   },
   "outputs": [],
   "source": []
  },
  {
   "cell_type": "code",
   "execution_count": null,
   "id": "947463e5",
   "metadata": {},
   "outputs": [],
   "source": []
  },
  {
   "cell_type": "code",
   "execution_count": null,
   "id": "6b85eadc",
   "metadata": {},
   "outputs": [],
   "source": []
  }
 ],
 "metadata": {
  "kernelspec": {
   "display_name": "Python 3 (ipykernel)",
   "language": "python",
   "name": "python3"
  },
  "language_info": {
   "codemirror_mode": {
    "name": "ipython",
    "version": 3
   },
   "file_extension": ".py",
   "mimetype": "text/x-python",
   "name": "python",
   "nbconvert_exporter": "python",
   "pygments_lexer": "ipython3",
   "version": "3.12.1"
  }
 },
 "nbformat": 4,
 "nbformat_minor": 5
}
